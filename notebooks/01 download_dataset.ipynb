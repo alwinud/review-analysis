{
 "cells": [
  {
   "cell_type": "markdown",
   "id": "30d18df6-bc33-4767-b2b2-686f7b667492",
   "metadata": {},
   "source": [
    "# Import Libraries"
   ]
  },
  {
   "cell_type": "code",
   "execution_count": 1,
   "id": "99cad82e",
   "metadata": {
    "vscode": {
     "languageId": "plaintext"
    }
   },
   "outputs": [],
   "source": [
    "import numpy as numpy"
   ]
  },
  {
   "cell_type": "code",
   "execution_count": null,
   "id": "0d24cf97-d853-4da3-a0e2-889f749443c9",
   "metadata": {},
   "outputs": [],
   "source": []
  },
  {
   "cell_type": "markdown",
   "id": "e194679a-45a0-475b-8b8a-26243b91f7d3",
   "metadata": {},
   "source": [
    "# Load json file"
   ]
  },
  {
   "cell_type": "code",
   "execution_count": 5,
   "id": "81eab166",
   "metadata": {
    "vscode": {
     "languageId": "plaintext"
    }
   },
   "outputs": [],
   "source": [
    "import json\n",
    "\n",
    "with open('../artifacts/kaggle.json', 'r') as file: #Open as ('r') read format.\n",
    "    data = json.load(file)"
   ]
  },
  {
   "cell_type": "code",
   "execution_count": 3,
   "id": "57f78570-ed79-4388-b489-47981a9d9fcb",
   "metadata": {},
   "outputs": [
    {
     "data": {
      "text/plain": [
       "{'username': 'udaradevapriya', 'key': '91b75c634df3225d2f959822b65db3e1'}"
      ]
     },
     "execution_count": 3,
     "metadata": {},
     "output_type": "execute_result"
    }
   ],
   "source": [
    "data"
   ]
  },
  {
   "cell_type": "code",
   "execution_count": null,
   "id": "19fb4d29-d55b-4ac7-b300-82ab71cdaded",
   "metadata": {},
   "outputs": [],
   "source": []
  },
  {
   "cell_type": "markdown",
   "id": "dfcf29b2-b676-4378-8317-84282ca33741",
   "metadata": {},
   "source": [
    "# Install Kaggle"
   ]
  },
  {
   "cell_type": "code",
   "execution_count": 4,
   "id": "61d87e82-3e56-43ff-ba93-fd17808ab308",
   "metadata": {},
   "outputs": [
    {
     "name": "stdout",
     "output_type": "stream",
     "text": [
      "Collecting kaggle\n",
      "  Downloading kaggle-1.7.4.5-py3-none-any.whl.metadata (16 kB)\n",
      "Requirement already satisfied: bleach in f:\\python ml\\review analysis\\review-analysis\\venv\\lib\\site-packages (from kaggle) (6.2.0)\n",
      "Requirement already satisfied: certifi>=14.05.14 in f:\\python ml\\review analysis\\review-analysis\\venv\\lib\\site-packages (from kaggle) (2025.7.9)\n",
      "Requirement already satisfied: charset-normalizer in f:\\python ml\\review analysis\\review-analysis\\venv\\lib\\site-packages (from kaggle) (3.4.2)\n",
      "Requirement already satisfied: idna in f:\\python ml\\review analysis\\review-analysis\\venv\\lib\\site-packages (from kaggle) (3.10)\n",
      "Collecting protobuf (from kaggle)\n",
      "  Downloading protobuf-6.31.1-cp310-abi3-win_amd64.whl.metadata (593 bytes)\n",
      "Requirement already satisfied: python-dateutil>=2.5.3 in f:\\python ml\\review analysis\\review-analysis\\venv\\lib\\site-packages (from kaggle) (2.9.0.post0)\n",
      "Collecting python-slugify (from kaggle)\n",
      "  Downloading python_slugify-8.0.4-py2.py3-none-any.whl.metadata (8.5 kB)\n",
      "Requirement already satisfied: requests in f:\\python ml\\review analysis\\review-analysis\\venv\\lib\\site-packages (from kaggle) (2.32.4)\n",
      "Requirement already satisfied: setuptools>=21.0.0 in f:\\python ml\\review analysis\\review-analysis\\venv\\lib\\site-packages (from kaggle) (80.9.0)\n",
      "Requirement already satisfied: six>=1.10 in f:\\python ml\\review analysis\\review-analysis\\venv\\lib\\site-packages (from kaggle) (1.17.0)\n",
      "Collecting text-unidecode (from kaggle)\n",
      "  Downloading text_unidecode-1.3-py2.py3-none-any.whl.metadata (2.4 kB)\n",
      "Collecting tqdm (from kaggle)\n",
      "  Downloading tqdm-4.67.1-py3-none-any.whl.metadata (57 kB)\n",
      "Requirement already satisfied: urllib3>=1.15.1 in f:\\python ml\\review analysis\\review-analysis\\venv\\lib\\site-packages (from kaggle) (2.5.0)\n",
      "Requirement already satisfied: webencodings in f:\\python ml\\review analysis\\review-analysis\\venv\\lib\\site-packages (from kaggle) (0.5.1)\n",
      "Requirement already satisfied: colorama in f:\\python ml\\review analysis\\review-analysis\\venv\\lib\\site-packages (from tqdm->kaggle) (0.4.6)\n",
      "Downloading kaggle-1.7.4.5-py3-none-any.whl (181 kB)\n",
      "Downloading protobuf-6.31.1-cp310-abi3-win_amd64.whl (435 kB)\n",
      "Downloading python_slugify-8.0.4-py2.py3-none-any.whl (10 kB)\n",
      "Downloading text_unidecode-1.3-py2.py3-none-any.whl (78 kB)\n",
      "Downloading tqdm-4.67.1-py3-none-any.whl (78 kB)\n",
      "Installing collected packages: text-unidecode, tqdm, python-slugify, protobuf, kaggle\n",
      "\n",
      "   ---------------------------------------- 0/5 [text-unidecode]\n",
      "   ---------------------------------------- 0/5 [text-unidecode]\n",
      "   ---------------------------------------- 0/5 [text-unidecode]\n",
      "   -------- ------------------------------- 1/5 [tqdm]\n",
      "   -------- ------------------------------- 1/5 [tqdm]\n",
      "   -------- ------------------------------- 1/5 [tqdm]\n",
      "   -------- ------------------------------- 1/5 [tqdm]\n",
      "   -------- ------------------------------- 1/5 [tqdm]\n",
      "   -------- ------------------------------- 1/5 [tqdm]\n",
      "   -------- ------------------------------- 1/5 [tqdm]\n",
      "   -------- ------------------------------- 1/5 [tqdm]\n",
      "   -------- ------------------------------- 1/5 [tqdm]\n",
      "   -------- ------------------------------- 1/5 [tqdm]\n",
      "   -------- ------------------------------- 1/5 [tqdm]\n",
      "   -------- ------------------------------- 1/5 [tqdm]\n",
      "   -------- ------------------------------- 1/5 [tqdm]\n",
      "   -------- ------------------------------- 1/5 [tqdm]\n",
      "   -------- ------------------------------- 1/5 [tqdm]\n",
      "   -------- ------------------------------- 1/5 [tqdm]\n",
      "   ---------------- ----------------------- 2/5 [python-slugify]\n",
      "   ---------------- ----------------------- 2/5 [python-slugify]\n",
      "   ---------------- ----------------------- 2/5 [python-slugify]\n",
      "   ---------------- ----------------------- 2/5 [python-slugify]\n",
      "   ---------------- ----------------------- 2/5 [python-slugify]\n",
      "   ------------------------ --------------- 3/5 [protobuf]\n",
      "   ------------------------ --------------- 3/5 [protobuf]\n",
      "   ------------------------ --------------- 3/5 [protobuf]\n",
      "   ------------------------ --------------- 3/5 [protobuf]\n",
      "   ------------------------ --------------- 3/5 [protobuf]\n",
      "   ------------------------ --------------- 3/5 [protobuf]\n",
      "   ------------------------ --------------- 3/5 [protobuf]\n",
      "   ------------------------ --------------- 3/5 [protobuf]\n",
      "   ------------------------ --------------- 3/5 [protobuf]\n",
      "   ------------------------ --------------- 3/5 [protobuf]\n",
      "   ------------------------ --------------- 3/5 [protobuf]\n",
      "   ------------------------ --------------- 3/5 [protobuf]\n",
      "   ------------------------ --------------- 3/5 [protobuf]\n",
      "   ------------------------ --------------- 3/5 [protobuf]\n",
      "   ------------------------ --------------- 3/5 [protobuf]\n",
      "   ------------------------ --------------- 3/5 [protobuf]\n",
      "   ------------------------ --------------- 3/5 [protobuf]\n",
      "   ------------------------ --------------- 3/5 [protobuf]\n",
      "   ------------------------ --------------- 3/5 [protobuf]\n",
      "   ------------------------ --------------- 3/5 [protobuf]\n",
      "   ------------------------ --------------- 3/5 [protobuf]\n",
      "   ------------------------ --------------- 3/5 [protobuf]\n",
      "   ------------------------ --------------- 3/5 [protobuf]\n",
      "   ------------------------ --------------- 3/5 [protobuf]\n",
      "   ------------------------ --------------- 3/5 [protobuf]\n",
      "   ------------------------ --------------- 3/5 [protobuf]\n",
      "   ------------------------ --------------- 3/5 [protobuf]\n",
      "   ------------------------ --------------- 3/5 [protobuf]\n",
      "   ------------------------ --------------- 3/5 [protobuf]\n",
      "   ------------------------ --------------- 3/5 [protobuf]\n",
      "   ------------------------ --------------- 3/5 [protobuf]\n",
      "   ------------------------ --------------- 3/5 [protobuf]\n",
      "   ------------------------ --------------- 3/5 [protobuf]\n",
      "   ------------------------ --------------- 3/5 [protobuf]\n",
      "   ------------------------ --------------- 3/5 [protobuf]\n",
      "   -------------------------------- ------- 4/5 [kaggle]\n",
      "   -------------------------------- ------- 4/5 [kaggle]\n",
      "   -------------------------------- ------- 4/5 [kaggle]\n",
      "   -------------------------------- ------- 4/5 [kaggle]\n",
      "   -------------------------------- ------- 4/5 [kaggle]\n",
      "   -------------------------------- ------- 4/5 [kaggle]\n",
      "   -------------------------------- ------- 4/5 [kaggle]\n",
      "   -------------------------------- ------- 4/5 [kaggle]\n",
      "   -------------------------------- ------- 4/5 [kaggle]\n",
      "   -------------------------------- ------- 4/5 [kaggle]\n",
      "   -------------------------------- ------- 4/5 [kaggle]\n",
      "   -------------------------------- ------- 4/5 [kaggle]\n",
      "   -------------------------------- ------- 4/5 [kaggle]\n",
      "   -------------------------------- ------- 4/5 [kaggle]\n",
      "   -------------------------------- ------- 4/5 [kaggle]\n",
      "   -------------------------------- ------- 4/5 [kaggle]\n",
      "   -------------------------------- ------- 4/5 [kaggle]\n",
      "   -------------------------------- ------- 4/5 [kaggle]\n",
      "   -------------------------------- ------- 4/5 [kaggle]\n",
      "   -------------------------------- ------- 4/5 [kaggle]\n",
      "   -------------------------------- ------- 4/5 [kaggle]\n",
      "   -------------------------------- ------- 4/5 [kaggle]\n",
      "   -------------------------------- ------- 4/5 [kaggle]\n",
      "   -------------------------------- ------- 4/5 [kaggle]\n",
      "   -------------------------------- ------- 4/5 [kaggle]\n",
      "   -------------------------------- ------- 4/5 [kaggle]\n",
      "   -------------------------------- ------- 4/5 [kaggle]\n",
      "   -------------------------------- ------- 4/5 [kaggle]\n",
      "   -------------------------------- ------- 4/5 [kaggle]\n",
      "   -------------------------------- ------- 4/5 [kaggle]\n",
      "   -------------------------------- ------- 4/5 [kaggle]\n",
      "   -------------------------------- ------- 4/5 [kaggle]\n",
      "   -------------------------------- ------- 4/5 [kaggle]\n",
      "   -------------------------------- ------- 4/5 [kaggle]\n",
      "   -------------------------------- ------- 4/5 [kaggle]\n",
      "   -------------------------------- ------- 4/5 [kaggle]\n",
      "   -------------------------------- ------- 4/5 [kaggle]\n",
      "   -------------------------------- ------- 4/5 [kaggle]\n",
      "   -------------------------------- ------- 4/5 [kaggle]\n",
      "   -------------------------------- ------- 4/5 [kaggle]\n",
      "   -------------------------------- ------- 4/5 [kaggle]\n",
      "   -------------------------------- ------- 4/5 [kaggle]\n",
      "   -------------------------------- ------- 4/5 [kaggle]\n",
      "   -------------------------------- ------- 4/5 [kaggle]\n",
      "   -------------------------------- ------- 4/5 [kaggle]\n",
      "   -------------------------------- ------- 4/5 [kaggle]\n",
      "   -------------------------------- ------- 4/5 [kaggle]\n",
      "   -------------------------------- ------- 4/5 [kaggle]\n",
      "   -------------------------------- ------- 4/5 [kaggle]\n",
      "   -------------------------------- ------- 4/5 [kaggle]\n",
      "   -------------------------------- ------- 4/5 [kaggle]\n",
      "   -------------------------------- ------- 4/5 [kaggle]\n",
      "   -------------------------------- ------- 4/5 [kaggle]\n",
      "   -------------------------------- ------- 4/5 [kaggle]\n",
      "   -------------------------------- ------- 4/5 [kaggle]\n",
      "   -------------------------------- ------- 4/5 [kaggle]\n",
      "   -------------------------------- ------- 4/5 [kaggle]\n",
      "   -------------------------------- ------- 4/5 [kaggle]\n",
      "   -------------------------------- ------- 4/5 [kaggle]\n",
      "   -------------------------------- ------- 4/5 [kaggle]\n",
      "   -------------------------------- ------- 4/5 [kaggle]\n",
      "   -------------------------------- ------- 4/5 [kaggle]\n",
      "   -------------------------------- ------- 4/5 [kaggle]\n",
      "   ---------------------------------------- 5/5 [kaggle]\n",
      "\n",
      "Successfully installed kaggle-1.7.4.5 protobuf-6.31.1 python-slugify-8.0.4 text-unidecode-1.3 tqdm-4.67.1\n"
     ]
    }
   ],
   "source": [
    "!pip install kaggle"
   ]
  },
  {
   "cell_type": "markdown",
   "id": "eeda38d8-7e8f-429c-bac6-bc7d1c2bac37",
   "metadata": {},
   "source": []
  },
  {
   "cell_type": "markdown",
   "id": "a09c1c4a-7486-4a36-9a7b-1f65c2b44da9",
   "metadata": {},
   "source": [
    "# Setup Login to Kaggle"
   ]
  },
  {
   "cell_type": "code",
   "execution_count": 6,
   "id": "2432e2b3-b4a8-46a8-8b4c-cdda48927714",
   "metadata": {},
   "outputs": [],
   "source": [
    "import os\n",
    "\n",
    "os.environ['KAGGLE_USERNAME'] = data['username']\n",
    "os.environ['KAGGLE_KEY'] = data['key']"
   ]
  },
  {
   "cell_type": "code",
   "execution_count": null,
   "id": "8a0e4969-40d8-4f34-bdae-bcb373b969d9",
   "metadata": {},
   "outputs": [],
   "source": []
  },
  {
   "cell_type": "markdown",
   "id": "1d739ab1-99d6-4f07-bb9c-63dee45d31c0",
   "metadata": {},
   "source": [
    "# Authenticate"
   ]
  },
  {
   "cell_type": "code",
   "execution_count": 7,
   "id": "8eff6aaf-7a9a-4c65-95b1-1651f1a4eb6c",
   "metadata": {},
   "outputs": [],
   "source": [
    "from kaggle.api.kaggle_api_extended import KaggleApi  # import kaggleapi\n",
    "\n",
    "api = KaggleApi()                          # create object\n",
    "api.authenticate()                         # authenticate"
   ]
  },
  {
   "cell_type": "code",
   "execution_count": null,
   "id": "c23ec60c-bdf4-49db-b4d0-a5b3f0661971",
   "metadata": {},
   "outputs": [],
   "source": []
  },
  {
   "cell_type": "markdown",
   "id": "a2bbbc6f-22ea-4940-9a19-1c6353a75c7b",
   "metadata": {},
   "source": [
    "# Download the dataset"
   ]
  },
  {
   "cell_type": "code",
   "execution_count": 8,
   "id": "65b702e3-e5b7-416a-82dd-13e1fbb9445b",
   "metadata": {},
   "outputs": [
    {
     "name": "stdout",
     "output_type": "stream",
     "text": [
      "Dataset URL: https://www.kaggle.com/datasets/dineshpiyasamara/sentiment-analysis-dataset\n"
     ]
    }
   ],
   "source": [
    "api.dataset_download_files('dineshpiyasamara/sentiment-analysis-dataset', path = '../artifacts')"
   ]
  },
  {
   "cell_type": "code",
   "execution_count": null,
   "id": "ca965208-28e3-468f-867a-8c0586101401",
   "metadata": {},
   "outputs": [],
   "source": []
  },
  {
   "cell_type": "markdown",
   "id": "1c1ef806-8c91-44db-95a3-13e1a5d0aaa1",
   "metadata": {},
   "source": [
    "# Extract the Zipfile"
   ]
  },
  {
   "cell_type": "code",
   "execution_count": 9,
   "id": "27f2ab62-ae47-4d31-8e71-3b35b2692010",
   "metadata": {},
   "outputs": [],
   "source": [
    "import zipfile\n",
    "\n",
    "with zipfile.ZipFile('../artifacts/sentiment-analysis-dataset.zip', 'r') as zip_ref:\n",
    "    zip_ref.extractall('../artifacts')"
   ]
  },
  {
   "cell_type": "code",
   "execution_count": null,
   "id": "ef6dbe31-0540-4ce1-a1aa-c9a187af8522",
   "metadata": {},
   "outputs": [],
   "source": []
  },
  {
   "cell_type": "code",
   "execution_count": null,
   "id": "7d0bb5a1-23ec-4a2f-9f52-5d7f8cb22435",
   "metadata": {},
   "outputs": [],
   "source": []
  },
  {
   "cell_type": "code",
   "execution_count": null,
   "id": "4907dfee-d0d8-43c1-b6dc-31a1e81ecc39",
   "metadata": {},
   "outputs": [],
   "source": []
  },
  {
   "cell_type": "code",
   "execution_count": null,
   "id": "c239c9bb-b346-4dc4-9620-1d0ec969c0b2",
   "metadata": {},
   "outputs": [],
   "source": []
  },
  {
   "cell_type": "code",
   "execution_count": null,
   "id": "ff19e44f-37cd-41f8-864d-2846da78b562",
   "metadata": {},
   "outputs": [],
   "source": []
  },
  {
   "cell_type": "code",
   "execution_count": null,
   "id": "622198d5-7a8e-4199-9a28-c7a796a155ed",
   "metadata": {},
   "outputs": [],
   "source": []
  },
  {
   "cell_type": "code",
   "execution_count": null,
   "id": "e07f718d-466a-4c20-8468-7cd7898c4965",
   "metadata": {},
   "outputs": [],
   "source": []
  },
  {
   "cell_type": "code",
   "execution_count": null,
   "id": "5a912ca4-02bd-4d2d-990f-ce2aef2c61be",
   "metadata": {},
   "outputs": [],
   "source": []
  },
  {
   "cell_type": "markdown",
   "id": "388c57fd-7c62-4ee6-ace6-b0361b63f21d",
   "metadata": {},
   "source": []
  },
  {
   "cell_type": "code",
   "execution_count": null,
   "id": "fe9fd56d-38d9-46c5-8ce8-a636b70d4f2f",
   "metadata": {},
   "outputs": [],
   "source": []
  }
 ],
 "metadata": {
  "kernelspec": {
   "display_name": "Python 3 (ipykernel)",
   "language": "python",
   "name": "python3"
  },
  "language_info": {
   "codemirror_mode": {
    "name": "ipython",
    "version": 3
   },
   "file_extension": ".py",
   "mimetype": "text/x-python",
   "name": "python",
   "nbconvert_exporter": "python",
   "pygments_lexer": "ipython3",
   "version": "3.12.5"
  }
 },
 "nbformat": 4,
 "nbformat_minor": 5
}
